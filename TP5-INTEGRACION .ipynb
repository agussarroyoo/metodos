{
 "cells": [
  {
   "cell_type": "code",
   "execution_count": 79,
   "id": "05bebe90",
   "metadata": {},
   "outputs": [
    {
     "name": "stdout",
     "output_type": "stream",
     "text": [
      "resultado:  2.076767001616597\n",
      "-sin(x)\n",
      "-sin(1)\n"
     ]
    }
   ],
   "source": [
    "import numpy as np\n",
    "\n",
    "def SimpsonCompuesta(x0,xn,n,eps) :\n",
    "    h = (xn - x0)/(n)\n",
    "    p = np.arange(x0,xn,h)\n",
    "    y = f(p)\n",
    "    sumaImpar=0\n",
    "    sumaPar=0\n",
    "    i=x0\n",
    "    multiplicacion=1\n",
    "    aux=0\n",
    "    for i in range(x0,xn):\n",
    "        if(i!=x0 and i!=xn):\n",
    "            if(aux%2==0 and aux!=0): # es par\n",
    "                sumaPar=sumaPar+y[i]\n",
    "            elif(aux%2!=0 and aux!=0):\n",
    "                sumaImpar=sumaImpar+y[i]\n",
    "        multiplicacion=multiplicacion+1\n",
    "        i=i+multiplicacion*h\n",
    "        aux=aux+1\n",
    "    \n",
    "    return ((h/3) * (f(x0)+4*sumaImpar+2*sumaPar+f(xn)))\n",
    "\n",
    "def f(x) : return ((1+(x**2))**(-0.5))\n",
    "\n",
    "print(\"resultado: \",SimpsonCompuesta(0,4,4,10**(-6)))\n",
    "import sympy as sp \n",
    "\n",
    "x = sp.Symbol('x') \n",
    "print(sp.diff(sp.cos(x),x,1))\n",
    "a = sp.diff(sp.cos(x),x,1).subs(x, 1)\n",
    "print(a)\n",
    "\n"
   ]
  }
 ],
 "metadata": {
  "kernelspec": {
   "display_name": "Python 3 (ipykernel)",
   "language": "python",
   "name": "python3"
  },
  "language_info": {
   "codemirror_mode": {
    "name": "ipython",
    "version": 3
   },
   "file_extension": ".py",
   "mimetype": "text/x-python",
   "name": "python",
   "nbconvert_exporter": "python",
   "pygments_lexer": "ipython3",
   "version": "3.9.7"
  }
 },
 "nbformat": 4,
 "nbformat_minor": 5
}
