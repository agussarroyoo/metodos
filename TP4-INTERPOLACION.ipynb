{
 "cells": [
  {
   "cell_type": "code",
   "execution_count": 15,
   "id": "dd876534",
   "metadata": {},
   "outputs": [],
   "source": [
    "# import sympy as sym\n",
    "# def DifDiv(x,d,n):\n",
    "#     for i in range(1,n,1):\n",
    "#         for j in range(n-1,i-1,-1):\n",
    "#             d[j] = (d[j]-d[j-1])/(x[j]-x[j-i])\n",
    "#     return d\n",
    "\n",
    "# x = [4,-4,7,6,2]\n",
    "# d = [278,-242,1430,980,40]\n",
    "# n = 5\n",
    "\n",
    "# d=DifDiv(x,d,n)\n",
    "# print(d)\n",
    "\n",
    "# def p(d,x,z):\n",
    "#     z = sym.Symbol('x')\n",
    "#     polinomio = d[0]\n",
    "#     n = len(x)\n",
    "#     for j in range(2,n+1,1):\n",
    "#         factor = d[j-1]\n",
    "#         termino = 1\n",
    "#         for k in range(0,j-1,1):\n",
    "#             termino = termino*((z-x[k]))\n",
    "#         print(factor)\n",
    "#         print(termino)\n",
    "#         print(polinomio)\n",
    "#         polinomio = polinomio + termino*(factor)\n",
    "#     return polinomio\n",
    "\n",
    "# def r(x,d,z):\n",
    "#     n=len(x) # toma la cantidad de elementos que tiene\n",
    "#     total=0\n",
    "#     y=sym.Symbol('278')\n",
    "#     total=y\n",
    "#     z = sym.Symbol('x')\n",
    "#     aux=1 #calcular la mutiplicacion de los x\n",
    "#     for i in range(1,n,1):\n",
    "#         for j in range(0,i,1):\n",
    "#             aux=aux*(z-x[j])\n",
    "#         total=total+d[i]*aux\n",
    "#         aux=1\n",
    "#     return total\n",
    "\n",
    "# valor = p(d,x,5)\n",
    "# print(valor)"
   ]
  },
  {
   "cell_type": "code",
   "execution_count": 29,
   "id": "347735ba",
   "metadata": {},
   "outputs": [
    {
     "data": {
      "image/png": "[encoded data removed]",
      "text/plain": [
       "<Figure size 432x288 with 1 Axes>"
      ]
     },
     "metadata": {
      "needs_background": "light"
     },
     "output_type": "display_data"
    }
   ],
   "source": [
    "import numpy as np\n",
    "import matplotlib.pyplot as plt\n",
    "\n",
    "xi = np.array([0.9,1.3,1.9,2.1,2.6,3.0,3.9,4.4,4.7,5.0,6.0,7.0,8.0,9.2,10.5,11.3,11.6,12.0,12.6,13.0,13.3])\n",
    "fi = np.array([1.3,1.5,1.85,2.1,2.6,2.7,2.4,2.15,2.05,2.1,2.25,2.3,2.25,1.95,1.4,0.9,0.7,0.6,0.5,0.4,0.25])\n",
    "# muestras = 101\n",
    "# a = np.min(xi)\n",
    "# b = np.max(xi)\n",
    "# pxi = np.linspace(a,b,muestras)\n",
    "# pfi = px(pxi)\n",
    "plt.plot(xi,fi,'o', label = 'Puntos')\n",
    "# plt.plot(pxi,pfi, label = 'Polinomio')\n",
    "plt.legend()\n",
    "plt.xlabel('xi')\n",
    "plt.ylabel('fi')\n",
    "plt.title('Interpolacion')\n",
    "\n",
    "plt.show()"
   ]
  }
 ],
 "metadata": {
  "kernelspec": {
   "display_name": "Python 3 (ipykernel)",
   "language": "python",
   "name": "python3"
  },
  "language_info": {
   "codemirror_mode": {
    "name": "ipython",
    "version": 3
   },
   "file_extension": ".py",
   "mimetype": "text/x-python",
   "name": "python",
   "nbconvert_exporter": "python",
   "pygments_lexer": "ipython3",
   "version": "3.9.7"
  }
 },
 "nbformat": 4,
 "nbformat_minor": 5
}
