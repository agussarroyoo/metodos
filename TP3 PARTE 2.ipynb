{
 "cells": [
  {
   "cell_type": "code",
   "execution_count": null,
   "id": "9db94125",
   "metadata": {},
   "outputs": [],
   "source": [
    "import numpy as np\n",
    "import matplotlib.pyplot as plt\n",
    "x = np.linspace(1,10,100)\n",
    "y1 = (5-2*x)/3\n",
    "y2 = (5.1-2*x)/3.1\n",
    "\n",
    "y3 = (5.001-2*x)/3\n",
    "y4 = (5.1-2*x)/3.1\n",
    "\n",
    "plt.plot(x,y1,x,y2,x,y3,x,y4)\n",
    "\n",
    "\n",
    "plt.title(\"Graficas\")\n",
    "plt.legend(('y1','y2','y3','y4'), loc='upper left')\n",
    "plt.xlabel('x')\n",
    "plt.ylabel('y', fontsize=20)\n",
    "plt.show()\n",
    "\n",
    "# Ambas rectas son casi paralelas.Hay una zona \"problematica\" en la que pareciese que que las rectas son las mismas. Esto causará\n",
    "# que en si en uno de los datos hay un error, voy a estar muy cerca de estar en una interseccion. No es facil ver un resultado.\n",
    "# Toda esa parte que coincide, son posibles resultados. Intrinsicamente, el sistema está mal condicionado. Entonces calculamos \n",
    "# k(A)."
   ]
  },
  {
   "cell_type": "code",
   "execution_count": null,
   "id": "751086ba",
   "metadata": {},
   "outputs": [],
   "source": [
    "x = np.linspace(1,10,100)\n",
    "\n",
    "y1 = (2-2*x)/3\n",
    "y2 = (1.999-1.999*x)/3\n",
    "\n",
    "y3 = (2-2*x)/3\n",
    "y4 = (2-1.999*x)/3\n",
    "\n",
    "plt.plot(x,y1,x,y2,x,y3,x,y4)\n",
    "\n",
    "\n",
    "plt.title(\"Graficas\")\n",
    "plt.legend(('y1','y2','y3','y4'), loc='upper left')\n",
    "plt.xlabel('x')\n",
    "plt.ylabel('y', fontsize=20)\n",
    "plt.show()"
   ]
  },
  {
   "cell_type": "code",
   "execution_count": 1,
   "id": "528311ea",
   "metadata": {},
   "outputs": [
    {
     "name": "stdout",
     "output_type": "stream",
     "text": [
      "CONVERGE\n",
      "Iteracion  11\n",
      "Error:  3.0430831141625703e-06\n",
      "Aprox:  [ 0.61999844 -0.76000038  0.03000064]\n"
     ]
    }
   ],
   "source": [
    "#METODO DE GAUSS SEIDEL\n",
    "# 3.a\n",
    "\n",
    "import numpy as np\n",
    "max = 50\n",
    "eps = 10**(-5)\n",
    "a = np.array([[2.,-1.,0.],[1.,6.,-2.],[4.,-3.,8.]])\n",
    "b = np.array([2.,-4.,5.])\n",
    "x0 = np.array([0.,0.,0.])\n",
    "iteraciones = 0\n",
    "error = 2*eps\n",
    "n = len(a)\n",
    "x1 = np.zeros(n)\n",
    "\n",
    "while (iteraciones <= max and error > eps): \n",
    "    for i in range(n):\n",
    "        sumar = 0\n",
    "        for j in range(i):\n",
    "            sumar = sumar + a[i][j]*x1[j]\n",
    "        for j in range(i+1,n):\n",
    "            sumar = sumar + a[i][j]*x0[j]\n",
    "        x1[i] = (b[i]-sumar)/a[i][i]\n",
    "    error = np.abs(x1-x0).max()\n",
    "    x0 = x1.copy()\n",
    "    iteraciones = iteraciones + 1\n",
    "if iteraciones > max:\n",
    "    print(\"No converge en \",iteraciones)\n",
    "else:\n",
    "    print(\"CONVERGE\")\n",
    "    print(\"Iteracion \",iteraciones)\n",
    "    print(\"Error: \",error)\n",
    "    print(\"Aprox: \",x1)"
   ]
  },
  {
   "cell_type": "code",
   "execution_count": 4,
   "id": "19ee9d54",
   "metadata": {},
   "outputs": [
    {
     "name": "stdout",
     "output_type": "stream",
     "text": [
      "CONVERGE\n",
      "Iteracion  27\n",
      "Error:  7.855138601353673e-06\n",
      "Aprox:  [-0.94945145  0.22521573 -0.27630006  0.61244214  0.49802395 -0.6703895\n",
      "  0.25915121  0.06421675  0.76372834 -0.103449  ]\n"
     ]
    }
   ],
   "source": [
    "#METODO DE GAUSS SEIDEL\n",
    "\n",
    "import numpy as np\n",
    "max = 50\n",
    "eps = 10**(-5)\n",
    "a = np.loadtxt(\"Sistema10x10//A.txt\", delimiter=\",\", dtype=float)\n",
    "b = np.loadtxt(\"Sistema10x10//b.txt\", delimiter=\",\", dtype=float)\n",
    "x0 = np.loadtxt(\"Sistema10x10//X.txt\", delimiter=\",\", dtype=float)\n",
    "iteraciones = 0\n",
    "error = 2*eps\n",
    "n = len(a)\n",
    "x1 = np.zeros(n)\n",
    "\n",
    "while (iteraciones <= max and error > eps): \n",
    "    for i in range(n):\n",
    "        sumar = 0\n",
    "        for j in range(i):\n",
    "            sumar = sumar + a[i][j]*x1[j]\n",
    "        for j in range(i+1,n):\n",
    "            sumar = sumar + a[i][j]*x0[j]\n",
    "        x1[i] = (b[i]-sumar)/a[i][i]\n",
    "    error = np.abs(x1-x0).max()\n",
    "    x0 = x1.copy()\n",
    "    iteraciones = iteraciones + 1\n",
    "if iteraciones > max:\n",
    "    print(\"No converge en \",iteraciones)\n",
    "else:\n",
    "    print(\"CONVERGE\")\n",
    "    print(\"Iteracion \",iteraciones)\n",
    "    print(\"Error: \",error)\n",
    "    print(\"Aprox: \",x1)\n",
    "    \n",
    "# Para implementar el metodo de Jacobi cambiaría los for, sólo quedaría el segundo for, desde 0 a n"
   ]
  },
  {
   "cell_type": "code",
   "execution_count": 6,
   "id": "ad471003",
   "metadata": {},
   "outputs": [
    {
     "name": "stdout",
     "output_type": "stream",
     "text": [
      "CONVERGE\n",
      "Iteracion  14\n",
      "Error:  2.0661251736164843e-06\n",
      "Aprox:  [-3.00000092 12.00000098  9.00000008]\n"
     ]
    }
   ],
   "source": [
    "#METODO DEL SOR\n",
    "\n",
    "import numpy as np\n",
    "max = 250\n",
    "eps = 10**(-5)\n",
    "a =  np.array([[4.,3.,0.],[3.,4.,-1.],[0.,-1.,4.]])\n",
    "b=np.array([24.,30.,24.])\n",
    "x0=np.array([1.,2.,3.])\n",
    "iteraciones = 0\n",
    "error = 2*eps\n",
    "n = len(a)\n",
    "x1 = np.zeros(n)\n",
    "w = 1.3\n",
    "\n",
    "while (iteraciones <= max and error > eps): \n",
    "    for i in range(n):\n",
    "        sumar = 0\n",
    "        for j in range(i):\n",
    "            sumar = sumar + a[i][j]*x1[j]\n",
    "        for j in range(i+1,n):\n",
    "            sumar = sumar + a[i][j]*x0[j]\n",
    "        x1[i] = (1-w) * x0[i] + w*((b[i]-sumar)/a[i,i])\n",
    "    error = np.abs(x1-x0).max()\n",
    "    x0 = x1.copy()\n",
    "    iteraciones = iteraciones + 1\n",
    "if iteraciones > max:\n",
    "    print(\"No converge en \",iteraciones)\n",
    "else:\n",
    "    print(\"CONVERGE\")\n",
    "    print(\"Iteracion \",iteraciones)\n",
    "    print(\"Error: \",error)\n",
    "    print(\"Aprox: \",x1)"
   ]
  }
 ],
 "metadata": {
  "kernelspec": {
   "display_name": "Python 3 (ipykernel)",
   "language": "python",
   "name": "python3"
  },
  "language_info": {
   "codemirror_mode": {
    "name": "ipython",
    "version": 3
   },
   "file_extension": ".py",
   "mimetype": "text/x-python",
   "name": "python",
   "nbconvert_exporter": "python",
   "pygments_lexer": "ipython3",
   "version": "3.9.7"
  }
 },
 "nbformat": 4,
 "nbformat_minor": 5
}
