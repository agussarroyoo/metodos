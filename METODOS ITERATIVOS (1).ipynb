{
 "cells": [
  {
   "cell_type": "code",
   "execution_count": 28,
   "id": "9aa8357f",
   "metadata": {},
   "outputs": [
    {
     "name": "stdout",
     "output_type": "stream",
     "text": [
      "Error:  0.296875\n",
      "Error:  0.224609375\n",
      "Error:  0.051513671875\n",
      "Error:  0.082611083984375\n",
      "Error:  0.014575958251953125\n",
      "Error:  0.018710613250732422\n",
      "Error:  0.0021279454231262207\n",
      "Error:  0.006208829581737518\n",
      "Error:  0.002036650665104389\n",
      "Error:  4.659488331526518e-05\n",
      "Raiz:  1.32470703125\n",
      "A:  1.32421875\n",
      "B:  1.3251953125\n",
      "Error:  4.659488331526518e-05\n"
     ]
    }
   ],
   "source": [
    "#BISECCION\n",
    "\n",
    "def f(x): return x**(3) -x-1\n",
    "iter = 0\n",
    "a= 1\n",
    "b= 2\n",
    "p=(a+b)/2\n",
    "eps = 10**(-3)\n",
    "max = 100\n",
    "while(iter <= max and abs(f(p)) > eps):\n",
    "    if f(a) * f(p) > 0:\n",
    "        a = p\n",
    "    else: \n",
    "        b = p\n",
    "    p = (a+b)/2\n",
    "    print(\"Error: \",abs(f(p)))\n",
    "    iter = iter +1\n",
    "if iter > max:\n",
    "    print(\"No converge en \",iter)\n",
    "else: \n",
    "    print(\"Raiz: \",p)\n",
    "    print(\"A: \",a)\n",
    "    print(\"B: \",b)\n",
    "    print(\"Error: \",abs(f(p)))\n",
    "    "
   ]
  },
  {
   "cell_type": "code",
   "execution_count": 25,
   "id": "d1bb087b",
   "metadata": {},
   "outputs": [
    {
     "name": "stdout",
     "output_type": "stream",
     "text": [
      "Raiz:  1.324673720964046\n",
      "A:  1.3956043956043958\n",
      "B:  1.3240161153222125\n",
      "iter:  5\n",
      "Error:  0.0001886437256843898\n"
     ]
    }
   ],
   "source": [
    "#REGULA FALSI\n",
    "\n",
    "def f(x): return x**(3) -x-1\n",
    "iter = 1\n",
    "a= 1\n",
    "b= 2\n",
    "x = b-((f(b)*(b-a))/(f(b) - f(a)))\n",
    "eps = 10**(-3)\n",
    "max = 100\n",
    "\n",
    "while iter <= max and abs(f(x)) > eps:\n",
    "    if f(a)*f(b) > 0:\n",
    "        a = x\n",
    "    else: \n",
    "        b = x\n",
    "    x = b - ((f(b)*(b-a))/(f(b) - f(a)))\n",
    "    iter = iter +1\n",
    "if iter > max:\n",
    "    print(\"No converge en \",iter)\n",
    "else: \n",
    "    print(\"Raiz: \",x)\n",
    "    print(\"A: \",a)\n",
    "    print(\"B: \",b)\n",
    "    print(\"iter: \", iter)\n",
    "    print(\"Error: \",abs(f(x)))\n",
    "        "
   ]
  },
  {
   "cell_type": "code",
   "execution_count": 24,
   "id": "9ddac752",
   "metadata": {},
   "outputs": [
    {
     "name": "stdout",
     "output_type": "stream",
     "text": [
      "Raiz= 1.324707936532088\n",
      "iter=  5\n",
      "error:  0.0008578401444470085\n"
     ]
    }
   ],
   "source": [
    "#SECANTE\n",
    "\n",
    "import numpy as np\n",
    "def f(x): return x**(3)-x-1\n",
    "a=1\n",
    "b=2\n",
    "error=0.1\n",
    "max=100\n",
    "iter = 0\n",
    "xmenos1=a\n",
    "xn = b\n",
    "xmas1 = 2*xn\n",
    "eps = 10**(-3)\n",
    "\n",
    "while iter <= max and abs(xmas1 -xmenos1) > eps:\n",
    "    xmas1 = xn -((f(xn)*(xn-xmenos1))/((f(xn))-(f(xmenos1))))\n",
    "    xmenos1 = xn\n",
    "    xn = xmas1\n",
    "    iter = iter + 1\n",
    "if iter>max:\n",
    "    print(\"no converge en \",iter)\n",
    "else:\n",
    "    print(\"Raiz=\",xmas1)\n",
    "    print(\"iter= \",iter)\n",
    "    print(\"error: \",abs(xmas1 -xmenos1))"
   ]
  },
  {
   "cell_type": "code",
   "execution_count": 29,
   "id": "49314b7c",
   "metadata": {},
   "outputs": [
    {
     "name": "stdout",
     "output_type": "stream",
     "text": [
      "raiz =  1.3247181739990537\n",
      "iter =  4\n",
      "error:  0.00048222495185323844\n"
     ]
    }
   ],
   "source": [
    "#NEWTON\n",
    "\n",
    "import numpy as np\n",
    "import math\n",
    "def f(x): return x**(3)-x-1\n",
    "def fprima(x) : return 3*(x**(2))-1\n",
    "max = 500\n",
    "eps = 10**(-3)\n",
    "x0 = 1\n",
    "iter = 0\n",
    "x1 = x0 + 2*eps\n",
    "error = abs(x1-x0)\n",
    "\n",
    "while iter<=max and error > eps: \n",
    "    x1=x0-(f(x0)/fprima(x0))\n",
    "    iter = iter +1\n",
    "    error = abs(x1-x0)\n",
    "    x0 = x1\n",
    "if (iter > max):\n",
    "    print(\"No converge en:\",iter)\n",
    "else : \n",
    "    print(\"raiz = \",x1)\n",
    "    print(\"iter = \",iter)\n",
    "    print(\"error: \",error)"
   ]
  },
  {
   "cell_type": "code",
   "execution_count": 5,
   "id": "8925b841",
   "metadata": {},
   "outputs": [
    {
     "name": "stdout",
     "output_type": "stream",
     "text": [
      "error:  0.6833752096446002\n",
      "error:  0.2128771233066109\n",
      "error:  0.06936217174705028\n",
      "error:  0.022945475875238763\n",
      "error:  0.007629100135307265\n",
      "error:  0.002540881693378516\n",
      "error:  0.0008467215979486298\n",
      "raiz =  3.0004233159998654\n",
      "iter =  7\n",
      "error:  0.0008467215979486298\n"
     ]
    }
   ],
   "source": [
    "#ITERACION PUNTO FIJO\n",
    "import numpy as np\n",
    "\n",
    "def g(x): return np.sqrt(2*x + 3)\n",
    "\n",
    "eps=10**(-3)\n",
    "x0= 4\n",
    "x1 = x0 +2*eps\n",
    "iter=0\n",
    "max=100\n",
    "error = abs(x1-x0)\n",
    "\n",
    "while iter <= max and error > eps:\n",
    "    x1 = g(x0)\n",
    "    error = abs(x1-x0)\n",
    "    print(\"error: \",error)\n",
    "    x0 = x1\n",
    "    iter = iter +1\n",
    "if (iter > max):\n",
    "    print(\"No converge en:\",iter)\n",
    "else: \n",
    "    print(\"raiz = \",x1)\n",
    "    print(\"iter = \",iter)\n",
    "    print(\"error: \",error) \n"
   ]
  },
  {
   "cell_type": "code",
   "execution_count": 3,
   "id": "2d4365bb",
   "metadata": {},
   "outputs": [
    {
     "name": "stdout",
     "output_type": "stream",
     "text": [
      "hola\n"
     ]
    }
   ],
   "source": [
    "\n"
   ]
  }
 ],
 "metadata": {
  "kernelspec": {
   "display_name": "Python 3 (ipykernel)",
   "language": "python",
   "name": "python3"
  },
  "language_info": {
   "codemirror_mode": {
    "name": "ipython",
    "version": 3
   },
   "file_extension": ".py",
   "mimetype": "text/x-python",
   "name": "python",
   "nbconvert_exporter": "python",
   "pygments_lexer": "ipython3",
   "version": "3.9.7"
  }
 },
 "nbformat": 4,
 "nbformat_minor": 5
}
